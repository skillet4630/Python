{
 "cells": [
  {
   "cell_type": "markdown",
   "metadata": {},
   "source": [
    "<제목>\n",
    "# 제목1\n",
    "## 제목2\n",
    "### 제목3\n",
    "\n",
    "<인용구>\n",
    "> 중요한 것은 꺾이지 않는 마음\n",
    "\n",
    "<순서 있는 목록>\n",
    "1. 첫번쨰\n",
    "2. 두번째\n",
    "3. 세번째\n",
    "\n",
    "<순서 없는 목록>\n",
    "- 베인\n",
    "- 티모\n",
    "- 이즈리얼"
   ]
  },
  {
   "cell_type": "code",
   "execution_count": 2,
   "metadata": {},
   "outputs": [
    {
     "name": "stdout",
     "output_type": "stream",
     "text": [
      "hello python\n"
     ]
    }
   ],
   "source": [
    "print(\"hello python\")"
   ]
  },
  {
   "cell_type": "code",
   "execution_count": null,
   "metadata": {},
   "outputs": [],
   "source": [
    "a = 10\n",
    "b = 20"
   ]
  }
 ],
 "metadata": {
  "kernelspec": {
   "display_name": "Python 3",
   "language": "python",
   "name": "python3"
  },
  "language_info": {
   "codemirror_mode": {
    "name": "ipython",
    "version": 3
   },
   "file_extension": ".py",
   "mimetype": "text/x-python",
   "name": "python",
   "nbconvert_exporter": "python",
   "pygments_lexer": "ipython3",
   "version": "3.12.0"
  }
 },
 "nbformat": 4,
 "nbformat_minor": 2
}
